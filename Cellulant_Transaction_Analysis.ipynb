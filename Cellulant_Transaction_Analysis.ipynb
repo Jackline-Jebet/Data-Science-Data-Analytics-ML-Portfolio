{
  "nbformat": 4,
  "nbformat_minor": 0,
  "metadata": {
    "colab": {
      "provenance": []
    },
    "kernelspec": {
      "name": "python3",
      "display_name": "Python 3"
    },
    "language_info": {
      "name": "python"
    }
  },
  "cells": [
    {
      "cell_type": "code",
      "source": [
        "# Step 1: Install and initialize PySpark\n",
        "!pip install pyspark\n",
        "from pyspark.sql import SparkSession"
      ],
      "metadata": {
        "colab": {
          "base_uri": "https://localhost:8080/"
        },
        "id": "M2CiBuNjcDZo",
        "outputId": "45626eef-5617-4169-9317-ba29335abef6"
      },
      "execution_count": 3,
      "outputs": [
        {
          "output_type": "stream",
          "name": "stdout",
          "text": [
            "Requirement already satisfied: pyspark in /usr/local/lib/python3.11/dist-packages (3.5.1)\n",
            "Requirement already satisfied: py4j==0.10.9.7 in /usr/local/lib/python3.11/dist-packages (from pyspark) (0.10.9.7)\n"
          ]
        }
      ]
    },
    {
      "cell_type": "code",
      "source": [
        "spark = SparkSession.builder.appName(\"CellulantTransactionAnalysis\").getOrCreate()"
      ],
      "metadata": {
        "id": "urZ_6940d18y"
      },
      "execution_count": 4,
      "outputs": []
    },
    {
      "cell_type": "code",
      "source": [
        "# Step 2: Dataset Upload\n",
        "from google.colab import drive\n",
        "drive.mount('/content/drive')"
      ],
      "metadata": {
        "colab": {
          "base_uri": "https://localhost:8080/"
        },
        "id": "-u3dkUOzeAqx",
        "outputId": "d3db972c-7b7b-43cb-ce18-45d5f1a76625"
      },
      "execution_count": 5,
      "outputs": [
        {
          "output_type": "stream",
          "name": "stdout",
          "text": [
            "Drive already mounted at /content/drive; to attempt to forcibly remount, call drive.mount(\"/content/drive\", force_remount=True).\n"
          ]
        }
      ]
    },
    {
      "cell_type": "code",
      "source": [
        "# Step 3: Data Loading\n",
        "df = spark.read.csv('drive/My Drive/Colab Notebooks/synthetic_mobile_money_transactions.csv',inferSchema=True, header =True)\n",
        "df.head()"
      ],
      "metadata": {
        "colab": {
          "base_uri": "https://localhost:8080/"
        },
        "id": "vJjmF5vsfl3o",
        "outputId": "fed9c0c5-dbc2-4698-fd6f-c62c9abe9fa6"
      },
      "execution_count": 6,
      "outputs": [
        {
          "output_type": "execute_result",
          "data": {
            "text/plain": [
              "Row(step=0, transactionType='PAYMENT', amount=579.16, initiator=4018807983755588, oldBalInitiator=29.32, newBalInitiator=29.32, recipient='30-0000345', oldBalRecipient=0.0, newBalRecipient=0.0, isFraud=0)"
            ]
          },
          "metadata": {},
          "execution_count": 6
        }
      ]
    },
    {
      "cell_type": "code",
      "source": [
        "# Step 4: Exploration\n",
        "print(\"Dataset Schema:\")\n",
        "df.printSchema()"
      ],
      "metadata": {
        "colab": {
          "base_uri": "https://localhost:8080/"
        },
        "id": "rTtzxyPviMYT",
        "outputId": "cb68abfa-9e25-4b09-9d9f-65f076e88cd2"
      },
      "execution_count": 7,
      "outputs": [
        {
          "output_type": "stream",
          "name": "stdout",
          "text": [
            "Dataset Schema:\n",
            "root\n",
            " |-- step: integer (nullable = true)\n",
            " |-- transactionType: string (nullable = true)\n",
            " |-- amount: double (nullable = true)\n",
            " |-- initiator: long (nullable = true)\n",
            " |-- oldBalInitiator: double (nullable = true)\n",
            " |-- newBalInitiator: double (nullable = true)\n",
            " |-- recipient: string (nullable = true)\n",
            " |-- oldBalRecipient: double (nullable = true)\n",
            " |-- newBalRecipient: double (nullable = true)\n",
            " |-- isFraud: integer (nullable = true)\n",
            "\n"
          ]
        }
      ]
    },
    {
      "cell_type": "code",
      "source": [
        "print(\"\\nFirst 5 Rows:\")\n",
        "df.show(5)"
      ],
      "metadata": {
        "colab": {
          "base_uri": "https://localhost:8080/"
        },
        "id": "AxSYCGf8iRo8",
        "outputId": "d4cc6a03-7075-465f-fd96-852f7b3b5c15"
      },
      "execution_count": 8,
      "outputs": [
        {
          "output_type": "stream",
          "name": "stdout",
          "text": [
            "\n",
            "First 5 Rows:\n",
            "+----+---------------+------+----------------+---------------+---------------+----------------+---------------+---------------+-------+\n",
            "|step|transactionType|amount|       initiator|oldBalInitiator|newBalInitiator|       recipient|oldBalRecipient|newBalRecipient|isFraud|\n",
            "+----+---------------+------+----------------+---------------+---------------+----------------+---------------+---------------+-------+\n",
            "|   0|        PAYMENT|579.16|4018807983755588|          29.32|          29.32|      30-0000345|            0.0|            0.0|      0|\n",
            "|   0|       TRANSFER| 39.03|4610593854752035|          39.03|            0.0|4944921135715488|          55.94|          94.98|      1|\n",
            "|   0|       TRANSFER| 21.78|4840578447365454|          21.78|            0.0|4305579785620656|          58.09|          79.88|      1|\n",
            "|   0|        PAYMENT|570.22|4958066799829630|           5.29|           5.29|      00-0000388|            0.0|            0.0|      0|\n",
            "|   0|        PAYMENT| 574.8|4149196095918843|          82.63|          82.63|      80-0005320|            0.0|            0.0|      0|\n",
            "+----+---------------+------+----------------+---------------+---------------+----------------+---------------+---------------+-------+\n",
            "only showing top 5 rows\n",
            "\n"
          ]
        }
      ]
    },
    {
      "cell_type": "code",
      "source": [
        "# Step 5: Data Cleaning\n",
        "df_clean = df.na.drop(subset=[\"transactionType\", \"amount\"])"
      ],
      "metadata": {
        "id": "Qxjc8qITiXt5"
      },
      "execution_count": 9,
      "outputs": []
    },
    {
      "cell_type": "code",
      "source": [
        "# Step 6: Analysis\n",
        "# Register the DataFrame as a temporary view\n",
        "df_clean.createOrReplaceTempView(\"transactions\")"
      ],
      "metadata": {
        "id": "X8azvx7ZjiGA"
      },
      "execution_count": 10,
      "outputs": []
    },
    {
      "cell_type": "code",
      "source": [
        "from pyspark.sql.functions import lit, rand, col, when\n",
        "\n",
        "# List of common payment methods\n",
        "payment_methods = [\n",
        "    \"Mobile Money\", \"Bank Transfer\", \"Card Payment\", \"Cash\"\n",
        "]\n",
        "\n",
        "# Add a random column to the DataFrame (you can use the existing df_with_country or a new one)\n",
        "df_temp_payment = df_with_country.withColumn(\"random_value_payment\", rand())\n",
        "\n",
        "# Start building the 'when' conditions for payment methods\n",
        "payment_method_expr = when(col(\"random_value_payment\") < 1/len(payment_methods), payment_methods[0])\n",
        "\n",
        "# Add the remaining conditions in a loop\n",
        "for i in range(1, len(payment_methods)):\n",
        "    payment_method_expr = payment_method_expr.when(col(\"random_value_payment\") < (i+1)/len(payment_methods), payment_methods[i])\n",
        "\n",
        "# Add the 'payment_method' column using the constructed expression\n",
        "df_with_payment_method = df_temp_payment.withColumn(\"payment_method\", payment_method_expr)\n",
        "\n",
        "# Drop the temporary random_value_payment column\n",
        "df_with_payment_method = df_with_payment_method.drop(\"random_value_payment\")\n",
        "\n",
        "# Show the schema to see the new 'payment_method' column\n",
        "print(\"Dataset Schema with 'payment_method' column:\")\n",
        "df_with_payment_method.printSchema()\n",
        "\n",
        "# Show a few rows to see the added column\n",
        "print(\"\\nFirst 10 Rows with 'payment_method' column:\")\n",
        "df_with_payment_method.show(10)"
      ],
      "metadata": {
        "colab": {
          "base_uri": "https://localhost:8080/"
        },
        "id": "CrRYn2AUtHAN",
        "outputId": "0a7cab6e-3a77-4a47-c439-1cf348d5f3f0"
      },
      "execution_count": 33,
      "outputs": [
        {
          "output_type": "stream",
          "name": "stdout",
          "text": [
            "Dataset Schema with 'payment_method' column:\n",
            "root\n",
            " |-- step: integer (nullable = true)\n",
            " |-- transactionType: string (nullable = true)\n",
            " |-- amount: double (nullable = true)\n",
            " |-- initiator: long (nullable = true)\n",
            " |-- oldBalInitiator: double (nullable = true)\n",
            " |-- newBalInitiator: double (nullable = true)\n",
            " |-- recipient: string (nullable = true)\n",
            " |-- oldBalRecipient: double (nullable = true)\n",
            " |-- newBalRecipient: double (nullable = true)\n",
            " |-- isFraud: integer (nullable = true)\n",
            " |-- country: string (nullable = true)\n",
            " |-- payment_method: string (nullable = true)\n",
            "\n",
            "\n",
            "First 10 Rows with 'payment_method' column:\n",
            "+----+---------------+--------+----------------+---------------+---------------+----------------+---------------+---------------+-------+-------------------+--------------+\n",
            "|step|transactionType|  amount|       initiator|oldBalInitiator|newBalInitiator|       recipient|oldBalRecipient|newBalRecipient|isFraud|            country|payment_method|\n",
            "+----+---------------+--------+----------------+---------------+---------------+----------------+---------------+---------------+-------+-------------------+--------------+\n",
            "|   0|        PAYMENT|  579.16|4018807983755588|          29.32|          29.32|      30-0000345|            0.0|            0.0|      0|              Benin| Bank Transfer|\n",
            "|   0|       TRANSFER|   39.03|4610593854752035|          39.03|            0.0|4944921135715488|          55.94|          94.98|      1|            Burundi|          Cash|\n",
            "|   0|       TRANSFER|   21.78|4840578447365454|          21.78|            0.0|4305579785620656|          58.09|          79.88|      1|           Ethiopia|  Card Payment|\n",
            "|   0|        PAYMENT|  570.22|4958066799829630|           5.29|           5.29|      00-0000388|            0.0|            0.0|      0|           Ethiopia| Bank Transfer|\n",
            "|   0|        PAYMENT|   574.8|4149196095918843|          82.63|          82.63|      80-0005320|            0.0|            0.0|      0|           Botswana|  Mobile Money|\n",
            "|   0|       TRANSFER|20674.33|4849789641005918|       20674.33|            0.0|4077949962446348|           87.7|       20762.03|      1|           Botswana|  Mobile Money|\n",
            "|   0|        PAYMENT|  564.03|4122715436259079|          79.15|          79.15|      60-0004366|            0.0|            0.0|      0|            Burundi|          Cash|\n",
            "|   0|        PAYMENT|  563.27|4798819003482693|          64.49|          64.49|      83-0003391|            0.0|            0.0|      0|Congo (Brazzaville)|  Card Payment|\n",
            "|   0|        PAYMENT|  587.55|4820197181560701|       707816.3|      707228.74|      82-0004644|            0.0|         587.55|      0|            Algeria| Bank Transfer|\n",
            "|   0|       TRANSFER|17389.78|4820197181560701|      707228.74|      689838.97|4413081572955063|          93.28|       17483.05|      1|            Burundi|  Card Payment|\n",
            "+----+---------------+--------+----------------+---------------+---------------+----------------+---------------+---------------+-------+-------------------+--------------+\n",
            "only showing top 10 rows\n",
            "\n"
          ]
        }
      ]
    },
    {
      "cell_type": "code",
      "source": [
        "# SQL Calculation\n",
        "# Register the DataFrame with the 'payment_method' column as a temporary view\n",
        "df_with_payment_method.createOrReplaceTempView(\"transactions\")\n",
        "\n",
        "payment_volume = spark.sql(\"\"\"\n",
        "    SELECT payment_method, SUM(Amount) as TotalAmount\n",
        "    FROM transactions\n",
        "    GROUP BY payment_method\n",
        "    ORDER BY TotalAmount DESC\n",
        "\"\"\")\n",
        "payment_volume.show()"
      ],
      "metadata": {
        "colab": {
          "base_uri": "https://localhost:8080/"
        },
        "id": "diUpIF_gkuPK",
        "outputId": "dcdd9f45-88f6-426b-dade-3b44e7a5281d"
      },
      "execution_count": 37,
      "outputs": [
        {
          "output_type": "stream",
          "name": "stdout",
          "text": [
            "+--------------+--------------------+\n",
            "|payment_method|         TotalAmount|\n",
            "+--------------+--------------------+\n",
            "| Bank Transfer|6.112650164580582...|\n",
            "|  Card Payment|5.486711261479285E10|\n",
            "|          Cash|5.472437830061027E10|\n",
            "|  Mobile Money|5.334818418161495E10|\n",
            "+--------------+--------------------+\n",
            "\n"
          ]
        }
      ]
    },
    {
      "cell_type": "code",
      "source": [
        "from pyspark.sql.functions import lit, rand, col, when\n",
        "\n",
        "# List of 18 African countries\n",
        "african_countries = [\n",
        "    \"Algeria\", \"Angola\", \"Benin\", \"Botswana\", \"Burkina Faso\",\n",
        "    \"Burundi\", \"Cameroon\", \"Central African Republic\", \"Chad\",\n",
        "    \"Comoros\", \"Congo (Brazzaville)\", \"Congo (Kinshasa)\", \"Cote d'Ivoire\",\n",
        "    \"Djibouti\", \"Egypt\", \"Equatorial Guinea\", \"Eritrea\", \"Ethiopia\"\n",
        "]\n",
        "\n",
        "# Add a random column to the DataFrame\n",
        "df_temp = df.withColumn(\"random_value\", rand())\n",
        "\n",
        "# Start building the 'when' conditions\n",
        "country_expr = when(col(\"random_value\") < 1/18, african_countries[0])\n",
        "\n",
        "# Add the remaining conditions in a loop\n",
        "for i in range(1, len(african_countries)):\n",
        "    country_expr = country_expr.when(col(\"random_value\") < (i+1)/18, african_countries[i])\n",
        "\n",
        "# Add the 'country' column using the constructed expression\n",
        "df_with_country = df_temp.withColumn(\"country\", country_expr)\n",
        "\n",
        "# Drop the temporary random_value column as it's no longer needed\n",
        "df_with_country = df_with_country.drop(\"random_value\")\n",
        "\n",
        "# Show the schema to see the new 'country' column\n",
        "print(\"Dataset Schema with 'country' column:\")\n",
        "df_with_country.printSchema()\n",
        "\n",
        "# Show a few rows to see the added column with different countries\n",
        "print(\"\\nFirst 5 Rows with 'country' column:\")\n",
        "df_with_country.show(10)\n"
      ],
      "metadata": {
        "colab": {
          "base_uri": "https://localhost:8080/"
        },
        "id": "rIhpaNS2k2QC",
        "outputId": "e13199d1-5ec3-49e0-8e6e-b44e3619e21c"
      },
      "execution_count": 38,
      "outputs": [
        {
          "output_type": "stream",
          "name": "stdout",
          "text": [
            "Dataset Schema with 'country' column:\n",
            "root\n",
            " |-- step: integer (nullable = true)\n",
            " |-- transactionType: string (nullable = true)\n",
            " |-- amount: double (nullable = true)\n",
            " |-- initiator: long (nullable = true)\n",
            " |-- oldBalInitiator: double (nullable = true)\n",
            " |-- newBalInitiator: double (nullable = true)\n",
            " |-- recipient: string (nullable = true)\n",
            " |-- oldBalRecipient: double (nullable = true)\n",
            " |-- newBalRecipient: double (nullable = true)\n",
            " |-- isFraud: integer (nullable = true)\n",
            " |-- country: string (nullable = true)\n",
            "\n",
            "\n",
            "First 5 Rows with 'country' column:\n",
            "+----+---------------+--------+----------------+---------------+---------------+----------------+---------------+---------------+-------+-------------------+\n",
            "|step|transactionType|  amount|       initiator|oldBalInitiator|newBalInitiator|       recipient|oldBalRecipient|newBalRecipient|isFraud|            country|\n",
            "+----+---------------+--------+----------------+---------------+---------------+----------------+---------------+---------------+-------+-------------------+\n",
            "|   0|        PAYMENT|  579.16|4018807983755588|          29.32|          29.32|      30-0000345|            0.0|            0.0|      0|           Ethiopia|\n",
            "|   0|       TRANSFER|   39.03|4610593854752035|          39.03|            0.0|4944921135715488|          55.94|          94.98|      1|            Burundi|\n",
            "|   0|       TRANSFER|   21.78|4840578447365454|          21.78|            0.0|4305579785620656|          58.09|          79.88|      1|Congo (Brazzaville)|\n",
            "|   0|        PAYMENT|  570.22|4958066799829630|           5.29|           5.29|      00-0000388|            0.0|            0.0|      0|            Burundi|\n",
            "|   0|        PAYMENT|   574.8|4149196095918843|          82.63|          82.63|      80-0005320|            0.0|            0.0|      0|            Eritrea|\n",
            "|   0|       TRANSFER|20674.33|4849789641005918|       20674.33|            0.0|4077949962446348|           87.7|       20762.03|      1|            Comoros|\n",
            "|   0|        PAYMENT|  564.03|4122715436259079|          79.15|          79.15|      60-0004366|            0.0|            0.0|      0|              Egypt|\n",
            "|   0|        PAYMENT|  563.27|4798819003482693|          64.49|          64.49|      83-0003391|            0.0|            0.0|      0|   Congo (Kinshasa)|\n",
            "|   0|        PAYMENT|  587.55|4820197181560701|       707816.3|      707228.74|      82-0004644|            0.0|         587.55|      0|             Angola|\n",
            "|   0|       TRANSFER|17389.78|4820197181560701|      707228.74|      689838.97|4413081572955063|          93.28|       17483.05|      1|              Egypt|\n",
            "+----+---------------+--------+----------------+---------------+---------------+----------------+---------------+---------------+-------+-------------------+\n",
            "only showing top 10 rows\n",
            "\n"
          ]
        }
      ]
    },
    {
      "cell_type": "code",
      "source": [
        "# sql Calculation 2\n",
        "country_volume = spark.sql(\"\"\"\n",
        "    SELECT Country, SUM(Amount) as TotalAmount\n",
        "    FROM transactions\n",
        "    GROUP BY Country\n",
        "    ORDER BY TotalAmount DESC\n",
        "\"\"\")\n",
        "country_volume.show()"
      ],
      "metadata": {
        "colab": {
          "base_uri": "https://localhost:8080/"
        },
        "id": "okg2JsJLq5us",
        "outputId": "12a8d9d7-9ac6-4d0c-a670-26d5bf8b74b7"
      },
      "execution_count": 39,
      "outputs": [
        {
          "output_type": "stream",
          "name": "stdout",
          "text": [
            "+--------------------+--------------------+\n",
            "|             Country|         TotalAmount|\n",
            "+--------------------+--------------------+\n",
            "|        Burkina Faso|1.431395600721884...|\n",
            "|            Botswana|1.409228699827908...|\n",
            "|            Ethiopia|1.408253207670894...|\n",
            "|               Benin|1.387938316443882E10|\n",
            "|             Eritrea|1.351344479768894...|\n",
            "|Central African R...|1.335957195182883...|\n",
            "|            Djibouti|1.325777255131875...|\n",
            "|             Comoros|1.285165931138906...|\n",
            "|               Egypt|1.283094922135915...|\n",
            "|             Algeria|1.240561927884945...|\n",
            "|    Congo (Kinshasa)|1.221270991918918...|\n",
            "|   Equatorial Guinea|1.207964566102934...|\n",
            "|            Cameroon|1.170401134544954...|\n",
            "|       Cote d'Ivoire|1.141938351593938E10|\n",
            "|                Chad|1.102966880856942...|\n",
            "| Congo (Brazzaville)|1.080477483222952...|\n",
            "|             Burundi|1.032054887466956E10|\n",
            "|              Angola| 9.908258426609482E9|\n",
            "+--------------------+--------------------+\n",
            "\n"
          ]
        }
      ]
    },
    {
      "cell_type": "code",
      "source": [
        "# Step 7: Spark to Pandas\n",
        "payment_pd = payment_volume.toPandas()\n",
        "country_pd = country_volume.toPandas()"
      ],
      "metadata": {
        "id": "-RN4d-cPvVPg"
      },
      "execution_count": 40,
      "outputs": []
    },
    {
      "cell_type": "code",
      "source": [
        "# Step 8: Visualization\n",
        "import matplotlib.pyplot as plt\n",
        "import seaborn as sns\n",
        "\n",
        "plt.figure(figsize=(8, 5))\n",
        "sns.barplot(x=\"TotalAmount\", y=\"payment_method\", data=payment_pd)\n",
        "plt.title('Total Transaction Amount by Payment Method at Cellulant')\n",
        "plt.xlabel('Total Amount ($)')\n",
        "plt.ylabel('Payment Method')\n",
        "plt.savefig('payment_method_volume_spark.png')\n",
        "plt.show()"
      ],
      "metadata": {
        "colab": {
          "base_uri": "https://localhost:8080/",
          "height": 487
        },
        "id": "xKu9TcldvjtV",
        "outputId": "f4850a1b-bbe9-4a35-8715-2b32f1702c5b"
      },
      "execution_count": 42,
      "outputs": [
        {
          "output_type": "display_data",
          "data": {
            "text/plain": [
              "<Figure size 800x500 with 1 Axes>"
            ],
            "image/png": "[encoded data removed]"
          },
          "metadata": {}
        }
      ]
    },
    {
      "cell_type": "code",
      "source": [
        "plt.figure(figsize=(8, 5))\n",
        "sns.barplot(x=\"TotalAmount\", y=\"Country\", data=country_pd)\n",
        "plt.title('Total Transaction Amount by Country at Cellulant')\n",
        "plt.xlabel('Total Amount ($)')\n",
        "plt.ylabel('Country')\n",
        "plt.savefig('country_volume_spark.png')\n",
        "plt.show()"
      ],
      "metadata": {
        "colab": {
          "base_uri": "https://localhost:8080/",
          "height": 487
        },
        "id": "hiPVhWPmwae7",
        "outputId": "3e8506f2-0cde-4f81-876d-ebfab939fe50"
      },
      "execution_count": 43,
      "outputs": [
        {
          "output_type": "display_data",
          "data": {
            "text/plain": [
              "<Figure size 800x500 with 1 Axes>"
            ],
            "image/png": "[encoded data removed]"
          },
          "metadata": {}
        }
      ]
    },
    {
      "cell_type": "code",
      "source": [
        "spark.stop()"
      ],
      "metadata": {
        "id": "Wu6SRCGqwqDM"
      },
      "execution_count": 44,
      "outputs": []
    }
  ]
}